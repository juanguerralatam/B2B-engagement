{
 "cells": [
  {
   "cell_type": "code",
   "execution_count": 1,
   "id": "de4349bc",
   "metadata": {},
   "outputs": [],
   "source": [
    "import pandas as pd\n",
    "\n",
    "# Load the CSV file\n",
    "df = pd.read_csv('all_channels_videos_with_url.csv')\n",
    "\n",
    "# Keep only the first 250 records and select 'id' and 'video url' columns\n",
    "df_subset = df[['videoId', 'video_url']].head(250)\n",
    "\n",
    "# Save the result back to CSV (overwrite or create new file as needed)\n",
    "df_subset.to_csv('downloadVideo.csv', index=False)"
   ]
  }
 ],
 "metadata": {
  "kernelspec": {
   "display_name": "base",
   "language": "python",
   "name": "python3"
  },
  "language_info": {
   "codemirror_mode": {
    "name": "ipython",
    "version": 3
   },
   "file_extension": ".py",
   "mimetype": "text/x-python",
   "name": "python",
   "nbconvert_exporter": "python",
   "pygments_lexer": "ipython3",
   "version": "3.13.5"
  }
 },
 "nbformat": 4,
 "nbformat_minor": 5
}
