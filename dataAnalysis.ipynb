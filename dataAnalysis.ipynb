{
 "cells": [
  {
   "cell_type": "code",
   "execution_count": null,
   "id": "de4349bc",
   "metadata": {},
   "outputs": [
    {
     "name": "stdout",
     "output_type": "stream",
     "text": [
      "Original videos data: 28554 rows\n",
      "Columns available: ['videoId', 'title', 'description', 'publishedAt', 'channelId', 'channelTitle', 'thumbnails', 'duration', 'definition', 'caption', 'licensedContent', 'dimension', 'viewCount', 'likeCount', 'dislikeCount', 'favoriteCount', 'unique_id', 'video_url']\n",
      "\n",
      "Trial file created: videos_statistics_250_trial.csv\n",
      "Trial file contains: 250 videos\n",
      "\n",
      "Sample of the first few videos:\n",
      "       videoId                                              title  viewCount  \\\n",
      "0  0nJG5axbhk4  S&P Global: Transforming DevOps with AWS GenAI...        338   \n",
      "1  9NfWmOrSsmI  AI Agents and Tools in AWS Marketplace | Amazo...        446   \n",
      "2  IBaU9Ify-bE  Amazon Bedrock AgentCore - Accelerate your AI ...       1127   \n",
      "3  usFIb9aEd1U  Amazon Bedrock AgentCore: Deploy & Operate AI ...       9980   \n",
      "4  YDqTaZ4dpXc  Amazon Bedrock AgentCore - Accelerate your AI ...       2165   \n",
      "\n",
      "  duration  \n",
      "0  0:03:18  \n",
      "1  0:00:33  \n",
      "2  0:00:31  \n",
      "3  0:06:57  \n",
      "4  0:01:48  \n"
     ]
    }
   ],
   "source": [
    "import pandas as pd\n",
    "import json\n",
    "import os\n",
    "\n",
    "# Load configuration\n",
    "def load_config():\n",
    "    try:\n",
    "        with open('config.json', 'r') as f:\n",
    "            return json.load(f)\n",
    "    except FileNotFoundError:\n",
    "        print(\"Warning: config.json not found, using default paths\")\n",
    "        return {}\n",
    "\n",
    "config = load_config()\n",
    "\n",
    "# Get file paths from config\n",
    "video_stats_file = config.get(\"output_files\", {}).get(\"video_statistics\", \"output/videos_statistics.csv\")\n",
    "\n",
    "# Load the videos statistics CSV file\n",
    "df = pd.read_csv(video_stats_file)\n",
    "\n",
    "print(f\"Original videos data: {len(df)} rows\")\n",
    "print(\"Columns available:\", list(df.columns))\n",
    "\n",
    "# Keep only the first 250 records\n",
    "df_250 = df.head(250)\n",
    "\n",
    "# Save the trial file with 250 videos\n",
    "df_250.to_csv('videos_statistics_250_trial.csv', index=False)"
   ]
  },
  {
   "cell_type": "code",
   "execution_count": null,
   "id": "40c8f10d",
   "metadata": {},
   "outputs": [
    {
     "name": "stdout",
     "output_type": "stream",
     "text": [
      "Data loaded successfully!\n",
      "Basic features: 2 rows\n",
      "Image features: 2 rows\n",
      "Audio features: 2 rows\n",
      "Text features: 2 rows\n",
      "\n",
      "Merged data: 2 rows, 26 columns\n",
      "Columns: ['channelId', 'videoId', 'Followers', 'videoAge', 'videoLength', 'sceneNumber', 'averageSceneLength', 'humanPresence', 'faceSum', 'Gender', 'Smile', 'motionMagnitude', 'motionDirection', 'Saturation', 'Brightness', 'Arousal', 'Valence', 'Pitch', 'titleSentiment', 'titleTechnicality', 'descriptionSentiment', 'descriptionTechnicality', 'hashtagsDescription', 'URLDescription', 'scriptSentiment', 'scriptTechnicality']\n"
     ]
    }
   ],
   "source": [
    "import pandas as pd\n",
    "import os\n",
    "\n",
    "# Use config from previous cell or reload if needed\n",
    "if 'config' not in locals():\n",
    "    import json\n",
    "    with open('config.json', 'r') as f:\n",
    "        config = json.load(f)\n",
    "\n",
    "# Get file paths from config\n",
    "basic_features_file = config.get(\"output_files\", {}).get(\"basic_features\", \"output/basic_features.csv\")\n",
    "image_features_file = config.get(\"output_files\", {}).get(\"image_features\", \"output/image_features_analysis.csv\")\n",
    "audio_features_file = config.get(\"output_files\", {}).get(\"audio_features\", \"output/audio_features_analysis.csv\")\n",
    "text_features_file = config.get(\"output_files\", {}).get(\"text_features\", \"output/text_features_analysis.csv\")\n",
    "\n",
    "# Load all the output CSV files\n",
    "basic_df = pd.read_csv(basic_features_file)\n",
    "image_df = pd.read_csv(image_features_file)\n",
    "audio_df = pd.read_csv(audio_features_file)\n",
    "text_df = pd.read_csv(text_features_file)\n",
    "\n",
    "print(\"Data loaded successfully!\")\n",
    "print(f\"Basic features: {len(basic_df)} rows\")\n",
    "print(f\"Image features: {len(image_df)} rows\")\n",
    "print(f\"Audio features: {len(audio_df)} rows\")\n",
    "print(f\"Text features: {len(text_df)} rows\")"
   ]
  },
  {
   "cell_type": "code",
   "execution_count": 2,
   "id": "f1504121",
   "metadata": {},
   "outputs": [
    {
     "name": "stdout",
     "output_type": "stream",
     "text": [
      "Final dataframe shape: (2, 30)\n",
      "Final columns: ['Engagement', 'Naration', 'audioCongruency', 'visualCongruency', 'channelId', 'videoId', 'Followers', 'videoAge', 'videoLength', 'sceneNumber', 'averageSceneLength', 'humanPresence', 'faceSum', 'Gender', 'Smile', 'motionMagnitude', 'motionDirection', 'Saturation', 'Brightness', 'Arousal', 'Valence', 'Pitch', 'titleSentiment', 'titleTechnicality', 'descriptionSentiment', 'descriptionTechnicality', 'hashtagsDescription', 'URLDescription', 'scriptSentiment', 'scriptTechnicality']\n",
      "\n",
      "First few rows:\n",
      "  Engagement Naration audioCongruency visualCongruency  \\\n",
      "0       None     None            None             None   \n",
      "1       None     None            None             None   \n",
      "\n",
      "                  channelId      videoId  Followers  videoAge  videoLength  \\\n",
      "0  UCd6MoB9NC6uYN2grvUNT-Zg  0nJG5axbhk4     815000        20          198   \n",
      "1  UCd6MoB9NC6uYN2grvUNT-Zg  9NfWmOrSsmI     815000        21           33   \n",
      "\n",
      "   sceneNumber  ...  Valence  Pitch  titleSentiment  titleTechnicality  \\\n",
      "0           30  ...    0.721  0.916           0.649              0.555   \n",
      "1            2  ...    0.701  1.000           0.496              0.251   \n",
      "\n",
      "   descriptionSentiment  descriptionTechnicality  hashtagsDescription  \\\n",
      "0                 0.423                    0.383                  0.3   \n",
      "1                 0.276                    0.368                  0.0   \n",
      "\n",
      "   URLDescription  scriptSentiment  scriptTechnicality  \n",
      "0           0.667            0.385               0.281  \n",
      "1           0.067            0.394               0.346  \n",
      "\n",
      "[2 rows x 30 columns]\n"
     ]
    }
   ],
   "source": [
    "# Add missing columns with NaN values\n",
    "merged_df['Engagement'] = None\n",
    "merged_df['Naration'] = None\n",
    "merged_df['audioCongruency'] = None\n",
    "merged_df['visualCongruency'] = None\n",
    "\n",
    "# Define the desired column order from main.csv\n",
    "desired_columns = [\n",
    "    'Engagement', 'Naration', 'audioCongruency', 'visualCongruency', 'channelId', 'videoId',\n",
    "    'Followers', 'videoAge', 'videoLength', 'sceneNumber', 'averageSceneLength',\n",
    "    'humanPresence', 'faceSum', 'Gender', 'Smile', 'motionMagnitude', 'motionDirection',\n",
    "    'Saturation', 'Brightness', 'Arousal', 'Valence', 'Pitch', 'titleSentiment',\n",
    "    'titleTechnicality', 'descriptionSentiment', 'descriptionTechnicality',\n",
    "    'hashtagsDescription', 'URLDescription', 'scriptSentiment', 'scriptTechnicality'\n",
    "]\n",
    "\n",
    "# Reorder columns\n",
    "final_df = merged_df[desired_columns]\n",
    "\n",
    "print(\"Final dataframe shape:\", final_df.shape)\n",
    "print(\"Final columns:\", list(final_df.columns))\n",
    "print(\"\\nFirst few rows:\")\n",
    "print(final_df.head())"
   ]
  },
  {
   "cell_type": "code",
   "execution_count": null,
   "id": "093013f2",
   "metadata": {},
   "outputs": [
    {
     "name": "stdout",
     "output_type": "stream",
     "text": [
      "Data successfully saved to main.csv!\n",
      "Total records: 2\n",
      "Total columns: 30\n",
      "\n",
      "Verification - main.csv contains 2 rows and 30 columns\n",
      "Sample data from main.csv:\n",
      "   Engagement  Naration  audioCongruency  visualCongruency  \\\n",
      "0         NaN       NaN              NaN               NaN   \n",
      "1         NaN       NaN              NaN               NaN   \n",
      "\n",
      "                  channelId      videoId  Followers  videoAge  videoLength  \\\n",
      "0  UCd6MoB9NC6uYN2grvUNT-Zg  0nJG5axbhk4     815000        20          198   \n",
      "1  UCd6MoB9NC6uYN2grvUNT-Zg  9NfWmOrSsmI     815000        21           33   \n",
      "\n",
      "   sceneNumber  ...  Valence  Pitch  titleSentiment  titleTechnicality  \\\n",
      "0           30  ...    0.721  0.916           0.649              0.555   \n",
      "1            2  ...    0.701  1.000           0.496              0.251   \n",
      "\n",
      "   descriptionSentiment  descriptionTechnicality  hashtagsDescription  \\\n",
      "0                 0.423                    0.383                  0.3   \n",
      "1                 0.276                    0.368                  0.0   \n",
      "\n",
      "   URLDescription  scriptSentiment  scriptTechnicality  \n",
      "0           0.667            0.385               0.281  \n",
      "1           0.067            0.394               0.346  \n",
      "\n",
      "[2 rows x 30 columns]\n"
     ]
    }
   ],
   "source": [
    "# Use config from previous cell or reload if needed\n",
    "if 'config' not in locals():\n",
    "    import json\n",
    "    with open('config.json', 'r') as f:\n",
    "        config = json.load(f)\n",
    "\n",
    "# Get main output file path from config\n",
    "main_output_file = config.get(\"output_files\", {}).get(\"main_output\", \"main.csv\")\n",
    "\n",
    "# Save the merged data to main output file\n",
    "final_df.to_csv(main_output_file, index=False)\n",
    "\n",
    "print(f\"Data successfully saved to {main_output_file}!\")\n",
    "print(f\"Total records: {len(final_df)}\")\n",
    "print(f\"Total columns: {len(final_df.columns)}\")\n",
    "\n",
    "# Verify the saved file\n",
    "verification_df = pd.read_csv(main_output_file)\n",
    "print(f\"\\nVerification - {main_output_file} contains {len(verification_df)} rows and {len(verification_df.columns)} columns\")\n",
    "print(f\"Sample data from {main_output_file}:\")\n",
    "print(verification_df.head())"
   ]
  }
 ],
 "metadata": {
  "kernelspec": {
   "display_name": "base",
   "language": "python",
   "name": "python3"
  },
  "language_info": {
   "codemirror_mode": {
    "name": "ipython",
    "version": 3
   },
   "file_extension": ".py",
   "mimetype": "text/x-python",
   "name": "python",
   "nbconvert_exporter": "python",
   "pygments_lexer": "ipython3",
   "version": "3.13.5"
  }
 },
 "nbformat": 4,
 "nbformat_minor": 5
}
